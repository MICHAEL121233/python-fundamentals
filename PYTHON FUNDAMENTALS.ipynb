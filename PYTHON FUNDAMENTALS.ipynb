{
 "cells": [
  {
   "cell_type": "code",
   "execution_count": 1,
   "id": "c8c55bd2",
   "metadata": {},
   "outputs": [
    {
     "name": "stdout",
     "output_type": "stream",
     "text": [
      "How many times did you attend class; 10\n",
      "Congratulations, you've met the graduation requirement!!!\n"
     ]
    }
   ],
   "source": [
    "total_class = 8\n",
    "attendance = int(input(\"How many times did you attend class; \"))\n",
    "percentage = (attendance/total_class) * 100\n",
    "if percentage >= 75:\n",
    "    print(\"Congratulations, you've met the graduation requirement!!!\")\n",
    "else:\n",
    "    print(\"Sorry, you have to repeat python fundamental\")"
   ]
  },
  {
   "cell_type": "code",
   "execution_count": 2,
   "id": "40e41fde",
   "metadata": {},
   "outputs": [
    {
     "name": "stdout",
     "output_type": "stream",
     "text": [
      "what is the temperature outside today; 88\n",
      "The temperature is too hot..\n"
     ]
    }
   ],
   "source": [
    "temp = int(input(\"what is the temperature outside today; \"))\n",
    "if temp >=25 and temp <= 30:\n",
    "    print(\"The temperature is good today...\")\n",
    "    print(\" why don't we go hiking..\")\n",
    "elif temp < 25:\n",
    "    print(\"The temperature seems cold\")\n",
    "    print(\"I'd advice you take an umbrella if you must go out\")\n",
    "else:\n",
    "    print(\"The temperature is too hot..\")"
   ]
  },
  {
   "cell_type": "markdown",
   "id": "fc440fc7",
   "metadata": {},
   "source": [
    "---"
   ]
  },
  {
   "cell_type": "markdown",
   "id": "5d13bd81",
   "metadata": {},
   "source": [
    "# NESTED IF STATEMENT..."
   ]
  },
  {
   "cell_type": "code",
   "execution_count": 6,
   "id": "4d8e3bf3",
   "metadata": {},
   "outputs": [
    {
     "name": "stdout",
     "output_type": "stream",
     "text": [
      "Enter your age; 16\n",
      "Do you have a driving license?\n",
      "Enter yes or no; yes\n",
      "It is illegal to have a driving license when you\"r not of age\n",
      "contact the federal road safety corps\n"
     ]
    }
   ],
   "source": [
    "age = int(input('Enter your age; '))\n",
    "print('Do you have a driving license?')\n",
    "d_l = input('Enter yes or no; ')\n",
    "if age < 0 or age <=17:\n",
    "    if d_l == 'no':\n",
    "        print('You should attend a driving school')\n",
    "        print('And obtain your driving license')\n",
    "    if d_l == 'yes':\n",
    "        print('It is illegal to have a driving license when you\"r not of age')\n",
    "        print('contact the federal road safety corps')\n",
    "    \n",
    "elif age > 18 and age <= 70:\n",
    "    if d_l == 'yes':\n",
    "        print('You are of age and licensed to drive')\n",
    "        print('kudos on getting your license gem, hop on the road')\n",
    "    if d_l == 'no':\n",
    "        print('You are of age, but you need a license to drive')\n",
    "\n",
    "elif age > 70 and d_l == 'yes':\n",
    "    print('You are fit to drive, but consider getting a driver')\n",
    "elif age > 70 and d_l == 'no':\n",
    "    print('Since you don\"t have a driving license, get a licensed driver to drive you around.')\n",
    "else:\n",
    "    print('I don\"t understand you..')\n",
    "    print('please repeat the process indicating your age in numbers and yes or no if you have a driving license or not')\n",
    "    \n",
    "    \n"
   ]
  },
  {
   "cell_type": "markdown",
   "id": "aedb3f4c",
   "metadata": {},
   "source": [
    "---"
   ]
  },
  {
   "cell_type": "markdown",
   "id": "9a33194a",
   "metadata": {},
   "source": [
    "# DATA STRUCTURE (LIST, TUPLES,STRINGS,DICTIONARY AND SETS"
   ]
  },
  {
   "cell_type": "markdown",
   "id": "0b072410",
   "metadata": {},
   "source": [
    "---"
   ]
  },
  {
   "cell_type": "markdown",
   "id": "9e8cef04",
   "metadata": {},
   "source": [
    "# LIST"
   ]
  },
  {
   "cell_type": "code",
   "execution_count": 29,
   "id": "6a158a65",
   "metadata": {},
   "outputs": [],
   "source": [
    "list1 = [1,2,\"smart\",True,3.5,\"hub\"]"
   ]
  },
  {
   "cell_type": "code",
   "execution_count": 28,
   "id": "ef106440",
   "metadata": {},
   "outputs": [
    {
     "name": "stdout",
     "output_type": "stream",
     "text": [
      "<class 'list'>\n"
     ]
    }
   ],
   "source": [
    "print(type(list1))"
   ]
  },
  {
   "cell_type": "code",
   "execution_count": 26,
   "id": "5116ec05",
   "metadata": {},
   "outputs": [
    {
     "data": {
      "text/plain": [
       "1"
      ]
     },
     "execution_count": 26,
     "metadata": {},
     "output_type": "execute_result"
    }
   ],
   "source": [
    "list1[0]"
   ]
  },
  {
   "cell_type": "code",
   "execution_count": 35,
   "id": "fd8042f1",
   "metadata": {},
   "outputs": [
    {
     "data": {
      "text/plain": [
       "'hub'"
      ]
     },
     "execution_count": 35,
     "metadata": {},
     "output_type": "execute_result"
    }
   ],
   "source": [
    "list1[-1]"
   ]
  },
  {
   "cell_type": "code",
   "execution_count": 31,
   "id": "211287d2",
   "metadata": {},
   "outputs": [
    {
     "data": {
      "text/plain": [
       "[2, 'smart', True, 3.5]"
      ]
     },
     "execution_count": 31,
     "metadata": {},
     "output_type": "execute_result"
    }
   ],
   "source": [
    "list1[1:5]"
   ]
  },
  {
   "cell_type": "code",
   "execution_count": 34,
   "id": "8121a4d2",
   "metadata": {},
   "outputs": [
    {
     "data": {
      "text/plain": [
       "6"
      ]
     },
     "execution_count": 34,
     "metadata": {},
     "output_type": "execute_result"
    }
   ],
   "source": [
    "len(list1)"
   ]
  },
  {
   "cell_type": "code",
   "execution_count": 37,
   "id": "727ba366",
   "metadata": {},
   "outputs": [],
   "source": [
    "list2 = [1,2,3,4,5,6,7,8,9,10]"
   ]
  },
  {
   "cell_type": "code",
   "execution_count": 39,
   "id": "b216406e",
   "metadata": {},
   "outputs": [
    {
     "data": {
      "text/plain": [
       "[1, 3, 5, 7, 9]"
      ]
     },
     "execution_count": 39,
     "metadata": {},
     "output_type": "execute_result"
    }
   ],
   "source": [
    "list2[0:9:2]"
   ]
  },
  {
   "cell_type": "code",
   "execution_count": 40,
   "id": "d67bea7d",
   "metadata": {},
   "outputs": [
    {
     "data": {
      "text/plain": [
       "[10, 9, 8, 7, 6, 5, 4, 3, 2, 1]"
      ]
     },
     "execution_count": 40,
     "metadata": {},
     "output_type": "execute_result"
    }
   ],
   "source": [
    "list2[::-1]"
   ]
  },
  {
   "cell_type": "code",
   "execution_count": 46,
   "id": "50251c28",
   "metadata": {},
   "outputs": [
    {
     "data": {
      "text/plain": [
       "[1, 3, 5, 7, 9]"
      ]
     },
     "execution_count": 46,
     "metadata": {},
     "output_type": "execute_result"
    }
   ],
   "source": [
    "list2[:10:2]"
   ]
  },
  {
   "cell_type": "code",
   "execution_count": 47,
   "id": "c4de6eb1",
   "metadata": {},
   "outputs": [
    {
     "data": {
      "text/plain": [
       "[2, 4, 6, 8, 10]"
      ]
     },
     "execution_count": 47,
     "metadata": {},
     "output_type": "execute_result"
    }
   ],
   "source": [
    "list2[1:10:2]"
   ]
  },
  {
   "cell_type": "code",
   "execution_count": 48,
   "id": "09203d40",
   "metadata": {},
   "outputs": [
    {
     "data": {
      "text/plain": [
       "[5, 6, 7, 8, 9, 10]"
      ]
     },
     "execution_count": 48,
     "metadata": {},
     "output_type": "execute_result"
    }
   ],
   "source": [
    "list2[4:]"
   ]
  },
  {
   "cell_type": "markdown",
   "id": "d233063c",
   "metadata": {},
   "source": [
    "---"
   ]
  },
  {
   "cell_type": "code",
   "execution_count": 49,
   "id": "a1e5cd07",
   "metadata": {},
   "outputs": [],
   "source": [
    "# OPERATIONS WITH LIST"
   ]
  },
  {
   "cell_type": "code",
   "execution_count": 57,
   "id": "1a2849c4",
   "metadata": {},
   "outputs": [],
   "source": [
    "list3 = [2]*10"
   ]
  },
  {
   "cell_type": "code",
   "execution_count": 58,
   "id": "5a61ae0c",
   "metadata": {},
   "outputs": [
    {
     "data": {
      "text/plain": [
       "[2, 2, 2, 2, 2, 2, 2, 2, 2, 2]"
      ]
     },
     "execution_count": 58,
     "metadata": {},
     "output_type": "execute_result"
    }
   ],
   "source": [
    "list3"
   ]
  },
  {
   "cell_type": "code",
   "execution_count": 59,
   "id": "0e6e0cc5",
   "metadata": {},
   "outputs": [
    {
     "name": "stdout",
     "output_type": "stream",
     "text": [
      "[0, 0, 0, 0, 0, 0, 0, 0, 0, 0]\n",
      "[0]\n"
     ]
    }
   ],
   "source": [
    "list4 =[0]\n",
    "print(list4 *10)\n",
    "print(list4)"
   ]
  },
  {
   "cell_type": "code",
   "execution_count": 60,
   "id": "c119d79f",
   "metadata": {},
   "outputs": [],
   "source": [
    "#LIST CONCATINATION"
   ]
  },
  {
   "cell_type": "code",
   "execution_count": 61,
   "id": "9472320c",
   "metadata": {},
   "outputs": [],
   "source": [
    "listadd = list1 + list2"
   ]
  },
  {
   "cell_type": "code",
   "execution_count": 62,
   "id": "cc9ce5cd",
   "metadata": {},
   "outputs": [
    {
     "data": {
      "text/plain": [
       "[1, 2, 'smart', True, 3.5, 'hub', 1, 2, 3, 4, 5, 6, 7, 8, 9, 10]"
      ]
     },
     "execution_count": 62,
     "metadata": {},
     "output_type": "execute_result"
    }
   ],
   "source": [
    "listadd"
   ]
  },
  {
   "cell_type": "code",
   "execution_count": 63,
   "id": "bf663de7",
   "metadata": {},
   "outputs": [],
   "source": [
    "#LIST UNPACKING"
   ]
  },
  {
   "cell_type": "code",
   "execution_count": 64,
   "id": "d16cd436",
   "metadata": {},
   "outputs": [],
   "source": [
    "list6 = list(\"smart hub\")"
   ]
  },
  {
   "cell_type": "code",
   "execution_count": 65,
   "id": "18d65e47",
   "metadata": {},
   "outputs": [
    {
     "data": {
      "text/plain": [
       "['s', 'm', 'a', 'r', 't', ' ', 'h', 'u', 'b']"
      ]
     },
     "execution_count": 65,
     "metadata": {},
     "output_type": "execute_result"
    }
   ],
   "source": [
    "list6"
   ]
  },
  {
   "cell_type": "markdown",
   "id": "e1bce239",
   "metadata": {},
   "source": [
    "---"
   ]
  },
  {
   "cell_type": "markdown",
   "id": "0c17e096",
   "metadata": {},
   "source": [
    "# METHODS IN LIST"
   ]
  },
  {
   "cell_type": "code",
   "execution_count": 66,
   "id": "df878e0d",
   "metadata": {},
   "outputs": [
    {
     "data": {
      "text/plain": [
       "[1, 2, 'smart', True, 3.5, 'hub']"
      ]
     },
     "execution_count": 66,
     "metadata": {},
     "output_type": "execute_result"
    }
   ],
   "source": [
    "list1"
   ]
  },
  {
   "cell_type": "code",
   "execution_count": 67,
   "id": "30804dd2",
   "metadata": {},
   "outputs": [],
   "source": [
    "list1.append(\"python\")"
   ]
  },
  {
   "cell_type": "code",
   "execution_count": 68,
   "id": "a576386e",
   "metadata": {},
   "outputs": [
    {
     "data": {
      "text/plain": [
       "[1, 2, 'smart', True, 3.5, 'hub', 'python']"
      ]
     },
     "execution_count": 68,
     "metadata": {},
     "output_type": "execute_result"
    }
   ],
   "source": [
    "list1"
   ]
  },
  {
   "cell_type": "markdown",
   "id": "29969d59",
   "metadata": {},
   "source": [
    "---"
   ]
  },
  {
   "cell_type": "code",
   "execution_count": 72,
   "id": "cc77e5b4",
   "metadata": {},
   "outputs": [],
   "source": [
    "list1.extend(list2)"
   ]
  },
  {
   "cell_type": "code",
   "execution_count": 73,
   "id": "52711560",
   "metadata": {
    "scrolled": true
   },
   "outputs": [
    {
     "data": {
      "text/plain": [
       "[1,\n",
       " 2,\n",
       " 'smart',\n",
       " True,\n",
       " 3.5,\n",
       " 'hub',\n",
       " 'python',\n",
       " 'p',\n",
       " 'r',\n",
       " 'o',\n",
       " 'g',\n",
       " 'r',\n",
       " 'a',\n",
       " 'm',\n",
       " 'm',\n",
       " 'i',\n",
       " 'n',\n",
       " 'g',\n",
       " 1,\n",
       " 2,\n",
       " 3,\n",
       " 4,\n",
       " 5,\n",
       " 6,\n",
       " 7,\n",
       " 8,\n",
       " 9,\n",
       " 10]"
      ]
     },
     "execution_count": 73,
     "metadata": {},
     "output_type": "execute_result"
    }
   ],
   "source": [
    "list1"
   ]
  },
  {
   "cell_type": "markdown",
   "id": "7d36d86a",
   "metadata": {},
   "source": [
    "---"
   ]
  },
  {
   "cell_type": "code",
   "execution_count": 74,
   "id": "d648f6c6",
   "metadata": {},
   "outputs": [
    {
     "data": {
      "text/plain": [
       "['s', 'm', 'a', 'r', 't', ' ', 'h', 'u', 'b']"
      ]
     },
     "execution_count": 74,
     "metadata": {},
     "output_type": "execute_result"
    }
   ],
   "source": [
    "list6"
   ]
  },
  {
   "cell_type": "code",
   "execution_count": 75,
   "id": "c5303fca",
   "metadata": {},
   "outputs": [],
   "source": [
    "list6.insert(5,\"tech\")"
   ]
  },
  {
   "cell_type": "code",
   "execution_count": 76,
   "id": "12e5bb17",
   "metadata": {},
   "outputs": [
    {
     "data": {
      "text/plain": [
       "['s', 'm', 'a', 'r', 't', 'tech', ' ', 'h', 'u', 'b']"
      ]
     },
     "execution_count": 76,
     "metadata": {},
     "output_type": "execute_result"
    }
   ],
   "source": [
    "list6"
   ]
  },
  {
   "cell_type": "markdown",
   "id": "cdbbbf68",
   "metadata": {},
   "source": [
    "---"
   ]
  },
  {
   "cell_type": "code",
   "execution_count": 78,
   "id": "b84f8500",
   "metadata": {},
   "outputs": [],
   "source": [
    "list6.append('s')"
   ]
  },
  {
   "cell_type": "code",
   "execution_count": 79,
   "id": "f7ac9cd7",
   "metadata": {},
   "outputs": [
    {
     "data": {
      "text/plain": [
       "['s', 'm', 'a', 'r', 't', 'tech', ' ', 'h', 'u', 'b', 's']"
      ]
     },
     "execution_count": 79,
     "metadata": {},
     "output_type": "execute_result"
    }
   ],
   "source": [
    "list6"
   ]
  },
  {
   "cell_type": "code",
   "execution_count": 80,
   "id": "c7c00f98",
   "metadata": {},
   "outputs": [],
   "source": [
    "list6.remove('s')"
   ]
  },
  {
   "cell_type": "code",
   "execution_count": 81,
   "id": "99072332",
   "metadata": {},
   "outputs": [
    {
     "data": {
      "text/plain": [
       "['m', 'a', 'r', 't', 'tech', ' ', 'h', 'u', 'b', 's']"
      ]
     },
     "execution_count": 81,
     "metadata": {},
     "output_type": "execute_result"
    }
   ],
   "source": [
    "list6"
   ]
  },
  {
   "cell_type": "code",
   "execution_count": 83,
   "id": "fcc8befd",
   "metadata": {},
   "outputs": [
    {
     "data": {
      "text/plain": [
       "[9, 7, 3, 4, 1, 7, 4, 21, 77, 89]"
      ]
     },
     "execution_count": 83,
     "metadata": {},
     "output_type": "execute_result"
    }
   ],
   "source": [
    "list7 = [9,7,3,4,1,7,4,21,77,89]\n",
    "list7"
   ]
  },
  {
   "cell_type": "code",
   "execution_count": 84,
   "id": "8a370ddb",
   "metadata": {},
   "outputs": [],
   "source": [
    "list7.sort()"
   ]
  },
  {
   "cell_type": "code",
   "execution_count": 85,
   "id": "e8580b5d",
   "metadata": {},
   "outputs": [
    {
     "data": {
      "text/plain": [
       "[1, 3, 4, 4, 7, 7, 9, 21, 77, 89]"
      ]
     },
     "execution_count": 85,
     "metadata": {},
     "output_type": "execute_result"
    }
   ],
   "source": [
    "list7"
   ]
  },
  {
   "cell_type": "markdown",
   "id": "72879447",
   "metadata": {},
   "source": [
    "---"
   ]
  },
  {
   "cell_type": "markdown",
   "id": "88e55b06",
   "metadata": {},
   "source": [
    "# BUILT IN FUNCTIONS WITH LIST"
   ]
  },
  {
   "cell_type": "code",
   "execution_count": 86,
   "id": "96512f11",
   "metadata": {},
   "outputs": [
    {
     "data": {
      "text/plain": [
       "[1, 3, 4, 4, 7, 7, 9, 21, 77, 89]"
      ]
     },
     "execution_count": 86,
     "metadata": {},
     "output_type": "execute_result"
    }
   ],
   "source": [
    "list7"
   ]
  },
  {
   "cell_type": "code",
   "execution_count": 87,
   "id": "bd264468",
   "metadata": {},
   "outputs": [
    {
     "data": {
      "text/plain": [
       "10"
      ]
     },
     "execution_count": 87,
     "metadata": {},
     "output_type": "execute_result"
    }
   ],
   "source": [
    "len(list7)"
   ]
  },
  {
   "cell_type": "code",
   "execution_count": 88,
   "id": "ae199723",
   "metadata": {},
   "outputs": [
    {
     "data": {
      "text/plain": [
       "1"
      ]
     },
     "execution_count": 88,
     "metadata": {},
     "output_type": "execute_result"
    }
   ],
   "source": [
    "min(list7)"
   ]
  },
  {
   "cell_type": "code",
   "execution_count": 89,
   "id": "4b5da2f5",
   "metadata": {},
   "outputs": [
    {
     "data": {
      "text/plain": [
       "89"
      ]
     },
     "execution_count": 89,
     "metadata": {},
     "output_type": "execute_result"
    }
   ],
   "source": [
    "max(list7)"
   ]
  },
  {
   "cell_type": "code",
   "execution_count": 90,
   "id": "90eeb61b",
   "metadata": {},
   "outputs": [
    {
     "data": {
      "text/plain": [
       "222"
      ]
     },
     "execution_count": 90,
     "metadata": {},
     "output_type": "execute_result"
    }
   ],
   "source": [
    "sum(list7)"
   ]
  },
  {
   "cell_type": "code",
   "execution_count": 92,
   "id": "c0c4963f",
   "metadata": {},
   "outputs": [
    {
     "data": {
      "text/plain": [
       "22.2"
      ]
     },
     "execution_count": 92,
     "metadata": {},
     "output_type": "execute_result"
    }
   ],
   "source": [
    "average = sum(list7)/len(list7)\n",
    "average"
   ]
  },
  {
   "cell_type": "markdown",
   "id": "dff16763",
   "metadata": {},
   "source": [
    "---"
   ]
  },
  {
   "cell_type": "code",
   "execution_count": 8,
   "id": "34cfa6a2",
   "metadata": {},
   "outputs": [
    {
     "data": {
      "text/plain": [
       "2"
      ]
     },
     "execution_count": 8,
     "metadata": {},
     "output_type": "execute_result"
    }
   ],
   "source": [
    "16%7"
   ]
  },
  {
   "cell_type": "markdown",
   "id": "37c3e3a5",
   "metadata": {},
   "source": [
    "---"
   ]
  },
  {
   "cell_type": "code",
   "execution_count": 7,
   "id": "04762475",
   "metadata": {},
   "outputs": [],
   "source": [
    "numbers = [1,2,3,4,5,6,7,8,9,10]"
   ]
  },
  {
   "cell_type": "code",
   "execution_count": 8,
   "id": "a168b0b7",
   "metadata": {},
   "outputs": [],
   "source": [
    "odd_numbers = numbers[::2]"
   ]
  },
  {
   "cell_type": "code",
   "execution_count": 9,
   "id": "71f0591a",
   "metadata": {},
   "outputs": [],
   "source": [
    "even_numbers = numbers[1::2]"
   ]
  },
  {
   "cell_type": "code",
   "execution_count": 11,
   "id": "a45506b7",
   "metadata": {},
   "outputs": [
    {
     "name": "stdout",
     "output_type": "stream",
     "text": [
      "[1, 2, 3, 4, 5, 6, 7, 8, 9, 10]\n",
      "[1, 3, 5, 7, 9]\n",
      "[2, 4, 6, 8, 10]\n"
     ]
    }
   ],
   "source": [
    "print(numbers)\n",
    "print(odd_numbers)\n",
    "print(even_numbers)"
   ]
  },
  {
   "cell_type": "code",
   "execution_count": 14,
   "id": "3ca457e1",
   "metadata": {},
   "outputs": [
    {
     "name": "stdout",
     "output_type": "stream",
     "text": [
      "[1, 2, 3, 4, 5, 6, 7, 8, 9, 10, 11, 12, 13, 14, 15, 16, 17, 18, 19, 20, 21, 22, 23, 24, 25, 26, 27, 28, 29, 30, 31, 32, 33, 34, 35, 36, 37, 38, 39, 40, 41, 42, 43, 44, 45, 46, 47, 48, 49, 50, 51, 52, 53, 54, 55, 56, 57, 58, 59, 60, 61, 62, 63, 64, 65, 66, 67, 68, 69, 70, 71, 72, 73, 74, 75, 76, 77, 78, 79, 80, 81, 82, 83, 84, 85, 86, 87, 88, 89, 90, 91, 92, 93, 94, 95, 96, 97, 98, 99, 100]\n",
      "[1, 3, 5, 7, 9, 11, 13, 15, 17, 19, 21, 23, 25, 27, 29, 31, 33, 35, 37, 39, 41, 43, 45, 47, 49, 51, 53, 55, 57, 59, 61, 63, 65, 67, 69, 71, 73, 75, 77, 79, 81, 83, 85, 87, 89, 91, 93, 95, 97, 99]\n",
      "[2, 4, 6, 8, 10, 12, 14, 16, 18, 20, 22, 24, 26, 28, 30, 32, 34, 36, 38, 40, 42, 44, 46, 48, 50, 52, 54, 56, 58, 60, 62, 64, 66, 68, 70, 72, 74, 76, 78, 80, 82, 84, 86, 88, 90, 92, 94, 96, 98, 100]\n"
     ]
    }
   ],
   "source": [
    "numbers1 = list(range(1,101))\n",
    "odd_numbers1 = numbers1[::2]\n",
    "even_numbers1 = numbers1[1::2]\n",
    "\n",
    "\n",
    "\n",
    "\n",
    "print(numbers1)\n",
    "print(odd_numbers1)\n",
    "print(even_numbers1)"
   ]
  },
  {
   "cell_type": "markdown",
   "id": "978e35fb",
   "metadata": {},
   "source": [
    "  # TUPLE"
   ]
  },
  {
   "cell_type": "code",
   "execution_count": 22,
   "id": "70917ada",
   "metadata": {},
   "outputs": [],
   "source": [
    "nigeria = ('abia', 'imo', 'rivers', 'edo')"
   ]
  },
  {
   "cell_type": "code",
   "execution_count": 23,
   "id": "11ac4e72",
   "metadata": {},
   "outputs": [
    {
     "name": "stdout",
     "output_type": "stream",
     "text": [
      "<class 'tuple'>\n"
     ]
    }
   ],
   "source": [
    "print(type(nigeria))"
   ]
  },
  {
   "cell_type": "code",
   "execution_count": 24,
   "id": "970ed854",
   "metadata": {},
   "outputs": [],
   "source": [
    "NGN = 'enugu', 'delta'"
   ]
  },
  {
   "cell_type": "code",
   "execution_count": 25,
   "id": "0d56555e",
   "metadata": {},
   "outputs": [
    {
     "name": "stdout",
     "output_type": "stream",
     "text": [
      "<class 'tuple'>\n"
     ]
    }
   ],
   "source": [
    "print(type(NGN))"
   ]
  },
  {
   "cell_type": "code",
   "execution_count": 26,
   "id": "4141cd70",
   "metadata": {},
   "outputs": [
    {
     "name": "stdout",
     "output_type": "stream",
     "text": [
      "abia\n"
     ]
    }
   ],
   "source": [
    "print(nigeria[0])"
   ]
  },
  {
   "cell_type": "code",
   "execution_count": 28,
   "id": "755d9a2b",
   "metadata": {},
   "outputs": [
    {
     "name": "stdout",
     "output_type": "stream",
     "text": [
      "('abia', 'imo', 'rivers', 'edo', 'enugu', 'delta')\n"
     ]
    }
   ],
   "source": [
    "#concatenating tuples\n",
    "\n",
    "print(nigeria + NGN)"
   ]
  },
  {
   "cell_type": "code",
   "execution_count": 30,
   "id": "dcfecd4a",
   "metadata": {},
   "outputs": [
    {
     "data": {
      "text/plain": [
       "(('abia', 'imo', 'rivers', 'edo'), ('enugu', 'delta'))"
      ]
     },
     "execution_count": 30,
     "metadata": {},
     "output_type": "execute_result"
    }
   ],
   "source": [
    "#nesting tuples (tuples inside tuple)\n",
    "\n",
    "nest = (nigeria,NGN)\n",
    "nest"
   ]
  },
  {
   "cell_type": "code",
   "execution_count": 33,
   "id": "be5bc108",
   "metadata": {},
   "outputs": [
    {
     "data": {
      "text/plain": [
       "('p', 'r', 'o', 'g', 'r', 'a', 'm', 'm', 'i', 'n', 'g')"
      ]
     },
     "execution_count": 33,
     "metadata": {},
     "output_type": "execute_result"
    }
   ],
   "source": [
    "# tuple unpacking\n",
    "\n",
    "unpack = tuple(\"programming\")\n",
    "unpack"
   ]
  },
  {
   "cell_type": "markdown",
   "id": "5cccc032",
   "metadata": {},
   "source": [
    "---"
   ]
  },
  {
   "cell_type": "code",
   "execution_count": 34,
   "id": "9da9cc00",
   "metadata": {},
   "outputs": [],
   "source": [
    "# built in function with tuples"
   ]
  },
  {
   "cell_type": "code",
   "execution_count": 37,
   "id": "868711de",
   "metadata": {},
   "outputs": [
    {
     "name": "stdout",
     "output_type": "stream",
     "text": [
      "(1, 2, 3, 4)\n"
     ]
    }
   ],
   "source": [
    "tuple1 = (1,2,3,4)\n",
    "print(tuple1)"
   ]
  },
  {
   "cell_type": "code",
   "execution_count": 38,
   "id": "2f3af8d6",
   "metadata": {},
   "outputs": [
    {
     "ename": "NameError",
     "evalue": "name 'tuple1' is not defined",
     "output_type": "error",
     "traceback": [
      "\u001b[1;31m---------------------------------------------------------------------------\u001b[0m",
      "\u001b[1;31mNameError\u001b[0m                                 Traceback (most recent call last)",
      "\u001b[1;32m~\\AppData\\Local\\Temp/ipykernel_1100/503489237.py\u001b[0m in \u001b[0;36m<module>\u001b[1;34m\u001b[0m\n\u001b[0;32m      1\u001b[0m \u001b[1;32mdel\u001b[0m \u001b[0mtuple1\u001b[0m\u001b[1;33m\u001b[0m\u001b[1;33m\u001b[0m\u001b[0m\n\u001b[1;32m----> 2\u001b[1;33m \u001b[0mprint\u001b[0m\u001b[1;33m(\u001b[0m\u001b[0mtuple1\u001b[0m\u001b[1;33m)\u001b[0m\u001b[1;33m\u001b[0m\u001b[1;33m\u001b[0m\u001b[0m\n\u001b[0m",
      "\u001b[1;31mNameError\u001b[0m: name 'tuple1' is not defined"
     ]
    }
   ],
   "source": [
    "del tuple1\n",
    "print(tuple1)"
   ]
  },
  {
   "cell_type": "code",
   "execution_count": 42,
   "id": "46f72653",
   "metadata": {},
   "outputs": [
    {
     "data": {
      "text/plain": [
       "(3, 5, 2, 5, 6, 7, 8, 9, 2, 3, 2, 2)"
      ]
     },
     "execution_count": 42,
     "metadata": {},
     "output_type": "execute_result"
    }
   ],
   "source": [
    "num1 = (3,5,2,5,6,7,8,9,2,3,2,2)\n",
    "num1"
   ]
  },
  {
   "cell_type": "code",
   "execution_count": 43,
   "id": "ff8866a0",
   "metadata": {},
   "outputs": [
    {
     "data": {
      "text/plain": [
       "4"
      ]
     },
     "execution_count": 43,
     "metadata": {},
     "output_type": "execute_result"
    }
   ],
   "source": [
    "num1.count(2)"
   ]
  },
  {
   "cell_type": "code",
   "execution_count": 44,
   "id": "aea406ef",
   "metadata": {},
   "outputs": [
    {
     "data": {
      "text/plain": [
       "2"
      ]
     },
     "execution_count": 44,
     "metadata": {},
     "output_type": "execute_result"
    }
   ],
   "source": [
    "num1.count(5)"
   ]
  },
  {
   "cell_type": "code",
   "execution_count": 45,
   "id": "3bde1f91",
   "metadata": {},
   "outputs": [
    {
     "data": {
      "text/plain": [
       "9"
      ]
     },
     "execution_count": 45,
     "metadata": {},
     "output_type": "execute_result"
    }
   ],
   "source": [
    "max(num1)"
   ]
  },
  {
   "cell_type": "code",
   "execution_count": 46,
   "id": "c02403b7",
   "metadata": {},
   "outputs": [
    {
     "data": {
      "text/plain": [
       "2"
      ]
     },
     "execution_count": 46,
     "metadata": {},
     "output_type": "execute_result"
    }
   ],
   "source": [
    "min(num1)"
   ]
  },
  {
   "cell_type": "code",
   "execution_count": 47,
   "id": "f85688b5",
   "metadata": {},
   "outputs": [
    {
     "data": {
      "text/plain": [
       "12"
      ]
     },
     "execution_count": 47,
     "metadata": {},
     "output_type": "execute_result"
    }
   ],
   "source": [
    "len(num1)"
   ]
  },
  {
   "cell_type": "code",
   "execution_count": 50,
   "id": "214c1107",
   "metadata": {},
   "outputs": [
    {
     "name": "stdout",
     "output_type": "stream",
     "text": [
      "[1, 2, 3, 4]\n",
      "(1, 2, 3, 4)\n"
     ]
    }
   ],
   "source": [
    "#converting list to tuple\n",
    "\n",
    "\n",
    "lyst = [1,2,3,4]\n",
    "tupl = tuple(lyst)\n",
    "\n",
    "print(lyst)\n",
    "print(tupl)"
   ]
  },
  {
   "cell_type": "code",
   "execution_count": 51,
   "id": "d45fb29b",
   "metadata": {},
   "outputs": [
    {
     "name": "stdout",
     "output_type": "stream",
     "text": [
      "[(1, 2, 3), ('a', 'b', 'c'), (4, 5, 6)]\n"
     ]
    }
   ],
   "source": [
    "# Tuple in a list\n",
    "\n",
    "lst = [(1,2,3),('a','b','c')]\n",
    "lst.append((4,5,6))\n",
    "print(lst)"
   ]
  },
  {
   "cell_type": "code",
   "execution_count": 6,
   "id": "d454e91d",
   "metadata": {},
   "outputs": [
    {
     "data": {
      "text/plain": [
       "(['a', 'b', 'c', 'z'], ['d', 4, True])"
      ]
     },
     "execution_count": 6,
     "metadata": {},
     "output_type": "execute_result"
    }
   ],
   "source": [
    "#list in a tuple\n",
    "\n",
    "tp1 = (['a','b','c'],['d',4,True])\n",
    "tp1[0].append('z')\n",
    "tp1"
   ]
  },
  {
   "cell_type": "code",
   "execution_count": 1,
   "id": "661d36a1",
   "metadata": {},
   "outputs": [
    {
     "data": {
      "text/plain": [
       "(0, 1, 2, 3, 4, 5, 6, 7, 8, 9)"
      ]
     },
     "execution_count": 1,
     "metadata": {},
     "output_type": "execute_result"
    }
   ],
   "source": [
    "tuple1 = tuple(range(0,10))\n",
    "tuple1"
   ]
  },
  {
   "cell_type": "code",
   "execution_count": 2,
   "id": "c8a0be92",
   "metadata": {},
   "outputs": [
    {
     "data": {
      "text/plain": [
       "(0, 1, 2, 3, 4, 5, 6, 7, 8, 9, 10, 11, 12, 13, 14, 15)"
      ]
     },
     "execution_count": 2,
     "metadata": {},
     "output_type": "execute_result"
    }
   ],
   "source": [
    "tuple2 = tuple1 + tuple(range(10,16))\n",
    "tuple2"
   ]
  },
  {
   "cell_type": "markdown",
   "id": "bc7ae728",
   "metadata": {},
   "source": [
    "---"
   ]
  },
  {
   "cell_type": "markdown",
   "id": "f0e0d584",
   "metadata": {},
   "source": [
    "# STRINGS"
   ]
  },
  {
   "cell_type": "code",
   "execution_count": 55,
   "id": "8230cfc5",
   "metadata": {},
   "outputs": [
    {
     "name": "stdout",
     "output_type": "stream",
     "text": [
      "<class 'str'>\n",
      "smart hub\n"
     ]
    }
   ],
   "source": [
    "stg = 'smart hub'\n",
    "print(type(stg))\n",
    "print(stg)"
   ]
  },
  {
   "cell_type": "code",
   "execution_count": 57,
   "id": "566173f9",
   "metadata": {},
   "outputs": [
    {
     "name": "stdout",
     "output_type": "stream",
     "text": [
      "smart\n"
     ]
    }
   ],
   "source": [
    "print(stg[0:5])"
   ]
  },
  {
   "cell_type": "code",
   "execution_count": 58,
   "id": "971316ce",
   "metadata": {},
   "outputs": [
    {
     "name": "stdout",
     "output_type": "stream",
     "text": [
      "SMART HUB\n"
     ]
    }
   ],
   "source": [
    "print(stg.upper())"
   ]
  },
  {
   "cell_type": "code",
   "execution_count": 59,
   "id": "5bf69e65",
   "metadata": {},
   "outputs": [
    {
     "name": "stdout",
     "output_type": "stream",
     "text": [
      "smart hub\n"
     ]
    }
   ],
   "source": [
    "stg2 = 'SMart hUb'\n",
    "print(stg2.lower())"
   ]
  },
  {
   "cell_type": "code",
   "execution_count": 60,
   "id": "1f82c6c6",
   "metadata": {},
   "outputs": [
    {
     "name": "stdout",
     "output_type": "stream",
     "text": [
      "smart hub is indeed a good technical place\n"
     ]
    }
   ],
   "source": [
    "stg3 = 'smart hub is indeed a good learning place'\n",
    "print(stg3.replace('learning', 'technical'))"
   ]
  },
  {
   "cell_type": "code",
   "execution_count": 63,
   "id": "59d96b38",
   "metadata": {},
   "outputs": [
    {
     "name": "stdout",
     "output_type": "stream",
     "text": [
      "happy sunday to you all\n"
     ]
    }
   ],
   "source": [
    "#string concatenation\n",
    "\n",
    "stg4 = 'happy'\n",
    "stg5 = 'sunday'\n",
    "stg6 = 'to you all'\n",
    "stg7 = stg4+' '+ stg5+' '+ stg6\n",
    "print(stg7)"
   ]
  },
  {
   "cell_type": "markdown",
   "id": "b43731c3",
   "metadata": {},
   "source": [
    "---"
   ]
  },
  {
   "cell_type": "markdown",
   "id": "15c949f0",
   "metadata": {},
   "source": [
    "# DICTIONARY"
   ]
  },
  {
   "cell_type": "code",
   "execution_count": 64,
   "id": "8643fad5",
   "metadata": {},
   "outputs": [],
   "source": [
    "d1 = {100 : 'welcome', 'name':'mark','age': 20}"
   ]
  },
  {
   "cell_type": "code",
   "execution_count": 65,
   "id": "91350a5e",
   "metadata": {},
   "outputs": [
    {
     "name": "stdout",
     "output_type": "stream",
     "text": [
      "{100: 'welcome', 'name': 'mark', 'age': 20}\n"
     ]
    }
   ],
   "source": [
    "print(d1)"
   ]
  },
  {
   "cell_type": "code",
   "execution_count": 66,
   "id": "123715be",
   "metadata": {},
   "outputs": [
    {
     "name": "stdout",
     "output_type": "stream",
     "text": [
      "mark\n"
     ]
    }
   ],
   "source": [
    "print(d1['name'])"
   ]
  },
  {
   "cell_type": "code",
   "execution_count": 67,
   "id": "e51de5c9",
   "metadata": {},
   "outputs": [
    {
     "name": "stdout",
     "output_type": "stream",
     "text": [
      "20\n"
     ]
    }
   ],
   "source": [
    "print(d1['age'])"
   ]
  },
  {
   "cell_type": "code",
   "execution_count": 68,
   "id": "acf1efe0",
   "metadata": {},
   "outputs": [],
   "source": [
    "d1['height'] = 50"
   ]
  },
  {
   "cell_type": "code",
   "execution_count": 71,
   "id": "875dc634",
   "metadata": {},
   "outputs": [
    {
     "name": "stdout",
     "output_type": "stream",
     "text": [
      "{100: 'welcome', 'name': 'mark', 'age': 20}\n"
     ]
    }
   ],
   "source": [
    "print(d1)"
   ]
  },
  {
   "cell_type": "code",
   "execution_count": 70,
   "id": "c1d5c6d9",
   "metadata": {},
   "outputs": [
    {
     "data": {
      "text/plain": [
       "{100: 'welcome', 'name': 'mark', 'age': 20}"
      ]
     },
     "execution_count": 70,
     "metadata": {},
     "output_type": "execute_result"
    }
   ],
   "source": [
    "d1.pop('height')\n",
    "d1"
   ]
  },
  {
   "cell_type": "code",
   "execution_count": 72,
   "id": "2f9d4093",
   "metadata": {},
   "outputs": [
    {
     "data": {
      "text/plain": [
       "dict_values(['welcome', 'mark', 20])"
      ]
     },
     "execution_count": 72,
     "metadata": {},
     "output_type": "execute_result"
    }
   ],
   "source": [
    "d1.values()"
   ]
  },
  {
   "cell_type": "code",
   "execution_count": null,
   "id": "6cbe97d5",
   "metadata": {},
   "outputs": [],
   "source": []
  },
  {
   "cell_type": "code",
   "execution_count": null,
   "id": "089101b8",
   "metadata": {},
   "outputs": [],
   "source": []
  },
  {
   "cell_type": "markdown",
   "id": "4d014641",
   "metadata": {},
   "source": [
    "# FOR LOOP"
   ]
  },
  {
   "cell_type": "code",
   "execution_count": 37,
   "id": "25e9dbdd",
   "metadata": {},
   "outputs": [
    {
     "name": "stdout",
     "output_type": "stream",
     "text": [
      "[0, 2, 4, 6, 8, 10, 12, 14, 16, 18, 20]\n"
     ]
    }
   ],
   "source": [
    "list1=[]\n",
    "for i in range(0,21,2):\n",
    "    list1=list1+[i]\n",
    "print(list1)\n",
    "    "
   ]
  },
  {
   "cell_type": "code",
   "execution_count": 39,
   "id": "af251027",
   "metadata": {},
   "outputs": [
    {
     "name": "stdout",
     "output_type": "stream",
     "text": [
      "0\n",
      "2\n",
      "4\n",
      "6\n",
      "8\n",
      "10\n",
      "12\n",
      "14\n",
      "16\n",
      "18\n",
      "20\n"
     ]
    }
   ],
   "source": [
    "for i in range(0,21,2):\n",
    "    print(i)"
   ]
  },
  {
   "cell_type": "code",
   "execution_count": 32,
   "id": "04d085a3",
   "metadata": {},
   "outputs": [
    {
     "name": "stdout",
     "output_type": "stream",
     "text": [
      "90\n"
     ]
    }
   ],
   "source": [
    "Sum=int()\n",
    "for i in range(0,20):\n",
    "    if i%2 ==0:\n",
    "        Sum = Sum + i\n",
    "print(Sum)"
   ]
  },
  {
   "cell_type": "code",
   "execution_count": 46,
   "id": "ac5c12fa",
   "metadata": {},
   "outputs": [
    {
     "name": "stdout",
     "output_type": "stream",
     "text": [
      "123\n",
      "abc\n"
     ]
    }
   ],
   "source": [
    "x = [[1,2,3],['a','b','c']]\n",
    "for i in x:\n",
    "    for j in i:\n",
    "        print(j, end='')\n",
    "    print()\n",
    "    "
   ]
  },
  {
   "cell_type": "code",
   "execution_count": 3,
   "id": "b2c590c5",
   "metadata": {},
   "outputs": [
    {
     "name": "stdout",
     "output_type": "stream",
     "text": [
      "enter your list range + 1; 6\n",
      "1\n",
      "3\n",
      "5\n",
      "[1, 3, 5]\n"
     ]
    }
   ],
   "source": [
    "vv = int(input('enter your list range + 1; '))\n",
    "list0=[]\n",
    "for i in range(1,vv,2):\n",
    "    list0=list0+[i]\n",
    "    print(i)\n",
    "print(list0)"
   ]
  },
  {
   "cell_type": "code",
   "execution_count": 7,
   "id": "1fd576c5",
   "metadata": {},
   "outputs": [
    {
     "name": "stdout",
     "output_type": "stream",
     "text": [
      "Enter a number; 5\n",
      "1hhh \n",
      "12hhh \n",
      "123hhh \n",
      "1234hhh \n",
      "12345hhh \n"
     ]
    }
   ],
   "source": [
    "#CREATING A PATTERN USING FOR LOOP\n",
    "\n",
    "#  1\n",
    "#  12\n",
    "#  123\n",
    "#  1234\n",
    "#  12345\n",
    "\n",
    "n = int(input('Enter a number; '))\n",
    "for i in range(1,n+1): #for the number of rolls\n",
    "    for j in range(1,i+1):\n",
    "        print(j, end='')\n",
    "    print()\n"
   ]
  },
  {
   "cell_type": "code",
   "execution_count": null,
   "id": "c825cfe1",
   "metadata": {},
   "outputs": [],
   "source": [
    "#ACCESSING THE ELEMENT OF A METRIX\n",
    "\n",
    "r = int(input('Enter the no of roll; '))\n",
    "c = int(input('Enter the no of column; '))\n",
    "x = []\n",
    "for i in r:\n",
    "    for j in c:\n",
    "        val1.insert(j,input())"
   ]
  },
  {
   "cell_type": "code",
   "execution_count": null,
   "id": "a49269d1",
   "metadata": {},
   "outputs": [],
   "source": []
  },
  {
   "cell_type": "code",
   "execution_count": null,
   "id": "743ce5ee",
   "metadata": {},
   "outputs": [],
   "source": []
  },
  {
   "cell_type": "markdown",
   "id": "43e2ba79",
   "metadata": {},
   "source": [
    "# BREAK, CONTINUE, PASS..."
   ]
  },
  {
   "cell_type": "code",
   "execution_count": 10,
   "id": "fc977fa8",
   "metadata": {},
   "outputs": [
    {
     "name": "stdout",
     "output_type": "stream",
     "text": [
      "hey"
     ]
    }
   ],
   "source": [
    "x = 'hey there, how are you?'\n",
    "for i in x:\n",
    "    if i == ' ':\n",
    "         break\n",
    "    print(i, end='')"
   ]
  },
  {
   "cell_type": "code",
   "execution_count": 7,
   "id": "97a3998d",
   "metadata": {
    "scrolled": true
   },
   "outputs": [
    {
     "name": "stdout",
     "output_type": "stream",
     "text": [
      "1\n",
      "2\n",
      "3\n",
      "4\n",
      "5\n",
      "end\n"
     ]
    }
   ],
   "source": [
    "num1 = tuple(range(1,9))\n",
    "count=0\n",
    "while count<9:\n",
    "    print(num1[count])\n",
    "    count=count+1\n",
    "    if count==5:\n",
    "        break\n",
    "print('end')"
   ]
  },
  {
   "cell_type": "code",
   "execution_count": 11,
   "id": "be7f10bf",
   "metadata": {},
   "outputs": [
    {
     "name": "stdout",
     "output_type": "stream",
     "text": [
      "1672"
     ]
    }
   ],
   "source": [
    "xx = [1,13,56,6,7,2]\n",
    "for i in xx:\n",
    "    if i>10:\n",
    "        pass\n",
    "    else:\n",
    "        print(i, end='')"
   ]
  },
  {
   "cell_type": "code",
   "execution_count": 6,
   "id": "3124c438",
   "metadata": {},
   "outputs": [
    {
     "name": "stdout",
     "output_type": "stream",
     "text": [
      "mart hub python cla"
     ]
    }
   ],
   "source": [
    "for letters in 'smart hub python class':\n",
    "    if letters == 's':\n",
    "        continue\n",
    "    print(letters,end='')"
   ]
  },
  {
   "cell_type": "code",
   "execution_count": 77,
   "id": "3beafc4b",
   "metadata": {},
   "outputs": [
    {
     "name": "stdout",
     "output_type": "stream",
     "text": [
      "7\n",
      "17\n",
      "33\n",
      "19\n",
      "69\n"
     ]
    }
   ],
   "source": [
    "for num in [10,7,17,42,33,19,69]:\n",
    "    if num%2==0:\n",
    "        continue\n",
    "    print(num, )"
   ]
  },
  {
   "cell_type": "markdown",
   "id": "f9e7d037",
   "metadata": {},
   "source": [
    "---"
   ]
  },
  {
   "cell_type": "code",
   "execution_count": 85,
   "id": "5f00a1ce",
   "metadata": {},
   "outputs": [
    {
     "name": "stdout",
     "output_type": "stream",
     "text": [
      "10 is an even number\n",
      "12 is an even number\n",
      "14 is an even number\n",
      "16 is an even number\n",
      "18 is an even number\n",
      "20 is an even number\n",
      "22 is an even number\n",
      "24 is an even number\n"
     ]
    }
   ],
   "source": [
    "for num in range(10,25):\n",
    "    if num%2!=0:\n",
    "        pass\n",
    "    else:\n",
    "        print(f'{num} is an even number')"
   ]
  },
  {
   "cell_type": "code",
   "execution_count": 88,
   "id": "34e85553",
   "metadata": {},
   "outputs": [
    {
     "name": "stderr",
     "output_type": "stream",
     "text": [
      "<>:2: SyntaxWarning: \"is\" with a literal. Did you mean \"==\"?\n",
      "<>:2: SyntaxWarning: \"is\" with a literal. Did you mean \"==\"?\n",
      "C:\\Users\\michael\\AppData\\Local\\Temp/ipykernel_6072/1480502194.py:2: SyntaxWarning: \"is\" with a literal. Did you mean \"==\"?\n",
      "  if number is 10:\n"
     ]
    }
   ],
   "source": [
    "def print_num(number):\n",
    "    if number is 10:\n",
    "        pass\n",
    "    else:\n",
    "        print('number is; ', number)"
   ]
  },
  {
   "cell_type": "code",
   "execution_count": 90,
   "id": "8113afa1",
   "metadata": {},
   "outputs": [],
   "source": [
    "print_num(10)"
   ]
  },
  {
   "cell_type": "code",
   "execution_count": null,
   "id": "93786fdb",
   "metadata": {},
   "outputs": [],
   "source": []
  },
  {
   "cell_type": "code",
   "execution_count": 9,
   "id": "86a59793",
   "metadata": {
    "scrolled": false
   },
   "outputs": [
    {
     "name": "stdout",
     "output_type": "stream",
     "text": [
      "Enter a multiple of 7; 2\n",
      "Enter a multiple of 7; 6\n",
      "Enter a multiple of 7; 99\n",
      "Enter a multiple of 7; 66\n",
      "Enter a multiple of 7; 67\n",
      "Enter a multiple of 7; 77\n",
      "77 is a multiple of 7.\n"
     ]
    }
   ],
   "source": [
    "val1 = int(input('Enter a multiple of 7; '))\n",
    "while val1%7:\n",
    "    if val1  !=0:\n",
    "        val1 = int(input('Enter a multiple of 7; '))\n",
    "else:\n",
    "    print(f'{val1} is a multiple of 7.')\n",
    "    "
   ]
  },
  {
   "cell_type": "code",
   "execution_count": 1,
   "id": "b1484d0d",
   "metadata": {},
   "outputs": [
    {
     "name": "stdout",
     "output_type": "stream",
     "text": [
      "Enter a multiple of 7; 2\n",
      "2 is a multiple of 7.\n"
     ]
    }
   ],
   "source": [
    "val1 = int(input('Enter a multiple of 7; '))\n",
    "while val1%7 !=0:\n",
    "    val1 = int(input('Enter a multiple of 7; '))\n",
    "else:\n",
    "    print(f'{val1} is a multiple of 7.')\n",
    "    "
   ]
  },
  {
   "cell_type": "code",
   "execution_count": null,
   "id": "7d896eeb",
   "metadata": {},
   "outputs": [],
   "source": []
  },
  {
   "cell_type": "code",
   "execution_count": 16,
   "id": "d2ac4955",
   "metadata": {
    "scrolled": true
   },
   "outputs": [
    {
     "name": "stdout",
     "output_type": "stream",
     "text": [
      "Enter a multiple of 7; 21\n",
      "21 is a multiple of 7.\n"
     ]
    }
   ],
   "source": [
    "val1 = int(input('Enter a multiple of 7; '))\n",
    "if val1%7 !=0:\n",
    "    val1 = int(input('Enter a multiple of 7; '))\n",
    "else:\n",
    "    print(f'{val1} is a multiple of 7.')\n",
    "    "
   ]
  },
  {
   "cell_type": "markdown",
   "id": "95672b71",
   "metadata": {},
   "source": [
    "# SETS"
   ]
  },
  {
   "cell_type": "code",
   "execution_count": 8,
   "id": "5cd784eb",
   "metadata": {},
   "outputs": [
    {
     "data": {
      "text/plain": [
       "{'a', 'b', 'c', 'd'}"
      ]
     },
     "execution_count": 8,
     "metadata": {},
     "output_type": "execute_result"
    }
   ],
   "source": [
    "s1 = set(['a','b','c','d'])\n",
    "s1"
   ]
  },
  {
   "cell_type": "code",
   "execution_count": 9,
   "id": "34c4fc82",
   "metadata": {},
   "outputs": [
    {
     "name": "stdout",
     "output_type": "stream",
     "text": [
      "<class 'set'>\n"
     ]
    }
   ],
   "source": [
    "print(type(s1))"
   ]
  },
  {
   "cell_type": "code",
   "execution_count": 10,
   "id": "1b5a32d0",
   "metadata": {},
   "outputs": [
    {
     "data": {
      "text/plain": [
       "{'a', 'b', 'c', 'd', 'e'}"
      ]
     },
     "execution_count": 10,
     "metadata": {},
     "output_type": "execute_result"
    }
   ],
   "source": [
    "#Adding an element to a set\n",
    "\n",
    "\n",
    "s1.add('e')\n",
    "s1"
   ]
  },
  {
   "cell_type": "code",
   "execution_count": 12,
   "id": "6c392ad4",
   "metadata": {},
   "outputs": [
    {
     "data": {
      "text/plain": [
       "frozenset({1, 2, 3, 4})"
      ]
     },
     "execution_count": 12,
     "metadata": {},
     "output_type": "execute_result"
    }
   ],
   "source": [
    "s2 = frozenset([1,2,3,4]) #frozen set is an immutable set, justb like a tuple\n",
    "s2"
   ]
  },
  {
   "cell_type": "code",
   "execution_count": 13,
   "id": "63abaab8",
   "metadata": {},
   "outputs": [
    {
     "ename": "AttributeError",
     "evalue": "'frozenset' object has no attribute 'add'",
     "output_type": "error",
     "traceback": [
      "\u001b[1;31m---------------------------------------------------------------------------\u001b[0m",
      "\u001b[1;31mAttributeError\u001b[0m                            Traceback (most recent call last)",
      "\u001b[1;32m~\\AppData\\Local\\Temp/ipykernel_9408/3789258783.py\u001b[0m in \u001b[0;36m<module>\u001b[1;34m\u001b[0m\n\u001b[1;32m----> 1\u001b[1;33m \u001b[0ms2\u001b[0m\u001b[1;33m.\u001b[0m\u001b[0madd\u001b[0m\u001b[1;33m(\u001b[0m\u001b[1;36m5\u001b[0m\u001b[1;33m)\u001b[0m\u001b[1;33m\u001b[0m\u001b[1;33m\u001b[0m\u001b[0m\n\u001b[0m",
      "\u001b[1;31mAttributeError\u001b[0m: 'frozenset' object has no attribute 'add'"
     ]
    }
   ],
   "source": [
    "s2.add(5)"
   ]
  },
  {
   "cell_type": "code",
   "execution_count": 14,
   "id": "e721d264",
   "metadata": {},
   "outputs": [],
   "source": [
    "s3 = set([1,3,7,2])\n",
    "s4 = set([3,2,8,9])"
   ]
  },
  {
   "cell_type": "code",
   "execution_count": 15,
   "id": "cd1603bd",
   "metadata": {},
   "outputs": [
    {
     "data": {
      "text/plain": [
       "{1, 2, 3, 7, 8, 9}"
      ]
     },
     "execution_count": 15,
     "metadata": {},
     "output_type": "execute_result"
    }
   ],
   "source": [
    "s3.union(s4)"
   ]
  },
  {
   "cell_type": "code",
   "execution_count": 16,
   "id": "204f8c02",
   "metadata": {},
   "outputs": [
    {
     "data": {
      "text/plain": [
       "{1, 7}"
      ]
     },
     "execution_count": 16,
     "metadata": {},
     "output_type": "execute_result"
    }
   ],
   "source": [
    "s3.difference(s4)"
   ]
  },
  {
   "cell_type": "code",
   "execution_count": 18,
   "id": "2fc3714c",
   "metadata": {},
   "outputs": [
    {
     "data": {
      "text/plain": [
       "{2, 3}"
      ]
     },
     "execution_count": 18,
     "metadata": {},
     "output_type": "execute_result"
    }
   ],
   "source": [
    "s3.intersection(s4)"
   ]
  },
  {
   "cell_type": "code",
   "execution_count": 23,
   "id": "9c32ad4b",
   "metadata": {},
   "outputs": [
    {
     "data": {
      "text/plain": [
       "False"
      ]
     },
     "execution_count": 23,
     "metadata": {},
     "output_type": "execute_result"
    }
   ],
   "source": [
    "#BASIC OPERATIONS WITH SETS\n",
    "\n",
    "s3==s4"
   ]
  },
  {
   "cell_type": "code",
   "execution_count": 20,
   "id": "d92c69e4",
   "metadata": {},
   "outputs": [
    {
     "data": {
      "text/plain": [
       "False"
      ]
     },
     "execution_count": 20,
     "metadata": {},
     "output_type": "execute_result"
    }
   ],
   "source": [
    "s3>s4"
   ]
  },
  {
   "cell_type": "code",
   "execution_count": 21,
   "id": "d6b1f406",
   "metadata": {},
   "outputs": [
    {
     "data": {
      "text/plain": [
       "True"
      ]
     },
     "execution_count": 21,
     "metadata": {},
     "output_type": "execute_result"
    }
   ],
   "source": [
    "1 in s3"
   ]
  },
  {
   "cell_type": "code",
   "execution_count": 22,
   "id": "9fb13ac5",
   "metadata": {},
   "outputs": [
    {
     "data": {
      "text/plain": [
       "False"
      ]
     },
     "execution_count": 22,
     "metadata": {},
     "output_type": "execute_result"
    }
   ],
   "source": [
    "1 not in s3"
   ]
  },
  {
   "cell_type": "markdown",
   "id": "f98648e8",
   "metadata": {},
   "source": [
    "---"
   ]
  },
  {
   "cell_type": "markdown",
   "id": "dde98ff2",
   "metadata": {},
   "source": [
    "# LOOPS"
   ]
  },
  {
   "cell_type": "code",
   "execution_count": null,
   "id": "93074a5e",
   "metadata": {},
   "outputs": [],
   "source": [
    "# FOR LOOP\n",
    "# WHILE LOOP\n",
    "# NESTED LOOP"
   ]
  },
  {
   "cell_type": "code",
   "execution_count": 29,
   "id": "1161021f",
   "metadata": {},
   "outputs": [
    {
     "data": {
      "text/plain": [
       "2"
      ]
     },
     "execution_count": 29,
     "metadata": {},
     "output_type": "execute_result"
    }
   ],
   "source": [
    "4//2"
   ]
  },
  {
   "cell_type": "markdown",
   "id": "8e0e38e6",
   "metadata": {},
   "source": [
    "# FOR LOOP"
   ]
  },
  {
   "cell_type": "code",
   "execution_count": 31,
   "id": "5c200bda",
   "metadata": {},
   "outputs": [
    {
     "name": "stdout",
     "output_type": "stream",
     "text": [
      "s\n",
      "m\n",
      "a\n",
      "r\n",
      "t\n",
      " \n",
      "h\n",
      "u\n",
      "b\n"
     ]
    }
   ],
   "source": [
    "x = 'smart hub'\n",
    "for i in x:\n",
    "    print(i)"
   ]
  },
  {
   "cell_type": "code",
   "execution_count": 35,
   "id": "cb2e6bcf",
   "metadata": {},
   "outputs": [
    {
     "name": "stdout",
     "output_type": "stream",
     "text": [
      "0\n",
      "2\n",
      "4\n",
      "6\n",
      "8\n",
      "10\n",
      "12\n",
      "14\n",
      "16\n",
      "18\n",
      "20\n"
     ]
    }
   ],
   "source": [
    "var1=0\n",
    "for num in range(0,21,2):\n",
    "    var1=var1+num\n",
    "pri"
   ]
  },
  {
   "cell_type": "code",
   "execution_count": 36,
   "id": "39945727",
   "metadata": {},
   "outputs": [
    {
     "name": "stdout",
     "output_type": "stream",
     "text": [
      "90\n"
     ]
    }
   ],
   "source": [
    "#summation of all the even numbers from 0 to 20\n",
    "summ=0\n",
    "for i in range(0,20):\n",
    "    if i%2==0:\n",
    "        summ=summ+i\n",
    "print(summ)"
   ]
  },
  {
   "cell_type": "code",
   "execution_count": null,
   "id": "065254d1",
   "metadata": {},
   "outputs": [],
   "source": []
  },
  {
   "cell_type": "markdown",
   "id": "7e673b8f",
   "metadata": {},
   "source": [
    "# FUNCTIONS"
   ]
  },
  {
   "cell_type": "code",
   "execution_count": 9,
   "id": "a6b9288e",
   "metadata": {},
   "outputs": [],
   "source": [
    "def greeting(name=\"guest\"):\n",
    "    print('happy sunday', name)"
   ]
  },
  {
   "cell_type": "code",
   "execution_count": 10,
   "id": "f873c4e5",
   "metadata": {},
   "outputs": [
    {
     "name": "stdout",
     "output_type": "stream",
     "text": [
      "happy sunday Henry\n"
     ]
    }
   ],
   "source": [
    "greeting(\"Henry\")"
   ]
  },
  {
   "cell_type": "code",
   "execution_count": 23,
   "id": "1b5a2e6a",
   "metadata": {},
   "outputs": [
    {
     "name": "stdout",
     "output_type": "stream",
     "text": [
      "happy sunday mark\n"
     ]
    }
   ],
   "source": [
    "greeting('mark')"
   ]
  },
  {
   "cell_type": "code",
   "execution_count": 11,
   "id": "146cd614",
   "metadata": {},
   "outputs": [],
   "source": [
    "def add(a,b):\n",
    "    total = a+b\n",
    "    print(f\"{total} is the sum of the two numbers.\")"
   ]
  },
  {
   "cell_type": "code",
   "execution_count": 12,
   "id": "89e1ddd8",
   "metadata": {},
   "outputs": [
    {
     "name": "stdout",
     "output_type": "stream",
     "text": [
      "12 is the sum of the two numbers.\n"
     ]
    }
   ],
   "source": [
    "add(4,8)"
   ]
  },
  {
   "cell_type": "code",
   "execution_count": 13,
   "id": "95beb4c2",
   "metadata": {},
   "outputs": [],
   "source": [
    "def addall(*a):\n",
    "    total = 0\n",
    "    for i in a:\n",
    "        total = total+i\n",
    "    print(\"The sum is \", total)"
   ]
  },
  {
   "cell_type": "code",
   "execution_count": 15,
   "id": "d2e8740c",
   "metadata": {},
   "outputs": [
    {
     "name": "stdout",
     "output_type": "stream",
     "text": [
      "The sum is  36\n"
     ]
    }
   ],
   "source": [
    "addall(1,2,3,6,7,8,9)"
   ]
  },
  {
   "cell_type": "code",
   "execution_count": 33,
   "id": "5d74189c",
   "metadata": {},
   "outputs": [
    {
     "name": "stdout",
     "output_type": "stream",
     "text": [
      "The sum is  30\n"
     ]
    }
   ],
   "source": [
    "addall(2,4,6,8,10)"
   ]
  },
  {
   "cell_type": "code",
   "execution_count": 21,
   "id": "1d75f267",
   "metadata": {},
   "outputs": [
    {
     "name": "stdout",
     "output_type": "stream",
     "text": [
      "('The volume of the cylinder is ', 66476.10054996001)\n",
      "('The volume of the cylinder is ', 14024.069605624836)\n",
      "('The volume of the cylinder is ', 1900.6635554218246)\n",
      "('The volume of the cylinder is ', 301.59289474462014)\n",
      "('The volume of the cylinder is ', 452.3893421169302)\n"
     ]
    }
   ],
   "source": [
    "#ASSIGNMENT\n",
    "\n",
    "'''CREATE A FUNCTION THAT CALCULATES THE VOLUME OF A CYLINDER (PI*RADIUS**2*HEIGHT)\n",
    "PI WILL BE A CONSTANT 3.14, WHILE THE RADIUS AND HEIGHT WILL VARY FOR DIFFERENT\n",
    "CYLINDER. PRINTTHE  VOLUME OF FIVE DIFFERENT CYLINDER WITH THIS FUNCTION.'''\n",
    "import math\n",
    "def cylinder(radius,height):\n",
    "    return 'The volume of the cylinder is ', math.pi*radius*radius*height\n",
    "\n",
    "\n",
    "vol1= cylinder(23,40)\n",
    "vol2 = cylinder(12,31)\n",
    "vol3 = cylinder(11,5)\n",
    "vol4 = cylinder(4,6)\n",
    "vol5 = cylinder(4,9)\n",
    "print(vol1)\n",
    "print(vol2)\n",
    "print(vol3)\n",
    "print(vol4)\n",
    "print(vol5)\n",
    "\n"
   ]
  },
  {
   "cell_type": "markdown",
   "id": "0c64ad45",
   "metadata": {},
   "source": [
    "# LAMBDA FUNCTIONS"
   ]
  },
  {
   "cell_type": "code",
   "execution_count": 26,
   "id": "abf6d03c",
   "metadata": {},
   "outputs": [],
   "source": [
    "fun = lambda a,b:a/b"
   ]
  },
  {
   "cell_type": "code",
   "execution_count": 27,
   "id": "95f3e91d",
   "metadata": {},
   "outputs": [
    {
     "data": {
      "text/plain": [
       "0.5"
      ]
     },
     "execution_count": 27,
     "metadata": {},
     "output_type": "execute_result"
    }
   ],
   "source": [
    "fun(10,20)"
   ]
  },
  {
   "cell_type": "markdown",
   "id": "c5a54202",
   "metadata": {},
   "source": [
    "---"
   ]
  },
  {
   "cell_type": "markdown",
   "id": "6c66bae0",
   "metadata": {},
   "source": [
    "# FILE AND EXCEPTION HANDLING\n",
    "\n",
    "### FILE HANDLING"
   ]
  },
  {
   "cell_type": "code",
   "execution_count": 29,
   "id": "9445cce9",
   "metadata": {},
   "outputs": [],
   "source": [
    "# syntax for file handling...\n",
    "# f = open(\"filename.txt\" \"\")\n",
    "# 'r' read a file\n",
    "# 'w' write on a file\n",
    "# 'x' to create new file\n"
   ]
  },
  {
   "cell_type": "code",
   "execution_count": 31,
   "id": "dd05c201",
   "metadata": {},
   "outputs": [
    {
     "data": {
      "text/plain": [
       "'C:\\\\Users\\\\michael\\\\Desktop\\\\python jupyter'"
      ]
     },
     "execution_count": 31,
     "metadata": {},
     "output_type": "execute_result"
    }
   ],
   "source": [
    "import os\n",
    "os.getcwd()"
   ]
  },
  {
   "cell_type": "code",
   "execution_count": 33,
   "id": "27c26297",
   "metadata": {},
   "outputs": [
    {
     "name": "stdout",
     "output_type": "stream",
     "text": [
      "python is very easy\n",
      "today is saturday\n",
      "tomorrow is sunday\n"
     ]
    },
    {
     "data": {
      "text/plain": [
       "<function TextIOWrapper.close()>"
      ]
     },
     "execution_count": 33,
     "metadata": {},
     "output_type": "execute_result"
    }
   ],
   "source": [
    "file1 = open(\"list.txt\", \"r\")\n",
    "print(file1.read())\n",
    "file1.close"
   ]
  },
  {
   "cell_type": "code",
   "execution_count": null,
   "id": "8b9ae7b2",
   "metadata": {},
   "outputs": [],
   "source": []
  },
  {
   "cell_type": "code",
   "execution_count": null,
   "id": "ad95b9ff",
   "metadata": {},
   "outputs": [],
   "source": []
  },
  {
   "cell_type": "markdown",
   "id": "2f78acdc",
   "metadata": {},
   "source": [
    "# MAP, REDUCE AND FILTER FUNCTIONS\n",
    "## MAP"
   ]
  },
  {
   "cell_type": "code",
   "execution_count": 8,
   "id": "7007547f",
   "metadata": {},
   "outputs": [
    {
     "name": "stdout",
     "output_type": "stream",
     "text": [
      "<map object at 0x0000029EAB88A340>\n",
      "{16, 1, 4, 9}\n"
     ]
    }
   ],
   "source": [
    "# map(func, iterable)\n",
    "def new(a):\n",
    "    return a*a\n",
    "x=map(new,[1,2,3,4])\n",
    "print(x)\n",
    "print(list(x))\n"
   ]
  },
  {
   "cell_type": "code",
   "execution_count": 7,
   "id": "3ba6dccb",
   "metadata": {},
   "outputs": [
    {
     "name": "stdout",
     "output_type": "stream",
     "text": [
      "[]\n"
     ]
    }
   ],
   "source": [
    "print(list(x))"
   ]
  },
  {
   "cell_type": "code",
   "execution_count": null,
   "id": "8ae83dda",
   "metadata": {},
   "outputs": [],
   "source": [
    "print(set(x))"
   ]
  },
  {
   "cell_type": "code",
   "execution_count": 9,
   "id": "4cf79183",
   "metadata": {},
   "outputs": [
    {
     "name": "stdout",
     "output_type": "stream",
     "text": [
      "<map object at 0x0000029EAB88A940>\n",
      "[2, 6, 12, 20]\n"
     ]
    }
   ],
   "source": [
    "def new(a,b):\n",
    "    return a*b\n",
    "x=map(new,[1,2,3,4],[2,3,4,5])\n",
    "print(x)\n",
    "print(list(x))\n"
   ]
  },
  {
   "cell_type": "code",
   "execution_count": 10,
   "id": "ac75ea6b",
   "metadata": {},
   "outputs": [
    {
     "name": "stdout",
     "output_type": "stream",
     "text": [
      "[4, 5, 6, 7, 8]\n"
     ]
    }
   ],
   "source": [
    "#lambda function in map\n",
    "lst=[1,2,3,4,5]\n",
    "y=list(map(lambda x:x+3,lst))\n",
    "print(y)"
   ]
  },
  {
   "cell_type": "markdown",
   "id": "9269863b",
   "metadata": {},
   "source": [
    "# FILTER"
   ]
  },
  {
   "cell_type": "code",
   "execution_count": 11,
   "id": "37aeadeb",
   "metadata": {},
   "outputs": [
    {
     "name": "stdout",
     "output_type": "stream",
     "text": [
      "<filter object at 0x0000029EAB88A6A0>\n",
      "[3, 4, 5, 6, 7, 8, 9]\n"
     ]
    }
   ],
   "source": [
    "# filter(func, iterable)\n",
    "def new1(i):\n",
    "    if i>=3:\n",
    "        return i\n",
    "j= filter(new1,(1,2,3,4,5,6,7,8,9))\n",
    "print(j)\n",
    "print(list(j))"
   ]
  },
  {
   "cell_type": "code",
   "execution_count": 12,
   "id": "5f80454f",
   "metadata": {},
   "outputs": [
    {
     "name": "stdout",
     "output_type": "stream",
     "text": [
      "(3, 4, 5, 6, 7, 8, 9)\n"
     ]
    }
   ],
   "source": [
    "z = filter(lambda x:(x>=3),(1,2,3,4,5,6,7,8,9))\n",
    "print(tuple(z))"
   ]
  },
  {
   "cell_type": "code",
   "execution_count": null,
   "id": "df6b7795",
   "metadata": {},
   "outputs": [],
   "source": []
  },
  {
   "cell_type": "markdown",
   "id": "2b8dbffd",
   "metadata": {},
   "source": [
    "# REDUCE"
   ]
  },
  {
   "cell_type": "code",
   "execution_count": 13,
   "id": "0200b2ca",
   "metadata": {},
   "outputs": [
    {
     "name": "stdout",
     "output_type": "stream",
     "text": [
      "45\n"
     ]
    }
   ],
   "source": [
    "# reduce(func, iterables)\n",
    "from functools import reduce\n",
    "def new2(x,y):\n",
    "    return x+y\n",
    "s = reduce(new2,[1,2,3,4,5,6,7,8,9])\n",
    "print(s)"
   ]
  },
  {
   "cell_type": "code",
   "execution_count": 15,
   "id": "64e27dc4",
   "metadata": {},
   "outputs": [
    {
     "data": {
      "text/plain": [
       "362880"
      ]
     },
     "execution_count": 15,
     "metadata": {},
     "output_type": "execute_result"
    }
   ],
   "source": [
    "reduce(lambda q,p: q*p,[1,2,3,4,5,6,7,8,9])"
   ]
  },
  {
   "cell_type": "code",
   "execution_count": null,
   "id": "4bf95213",
   "metadata": {},
   "outputs": [],
   "source": []
  },
  {
   "cell_type": "code",
   "execution_count": 3,
   "id": "b47b5e63",
   "metadata": {},
   "outputs": [
    {
     "name": "stdout",
     "output_type": "stream",
     "text": [
      "155 mph\n",
      "155 mph\n"
     ]
    }
   ],
   "source": [
    "class car:\n",
    "    def getspeed(self):\n",
    "        print('155 mph')\n",
    "BMW = car()\n",
    "FORD = car()\n",
    "car.getspeed(BMW)\n",
    "FORD.getspeed()"
   ]
  },
  {
   "cell_type": "code",
   "execution_count": 4,
   "id": "8ccfd53c",
   "metadata": {},
   "outputs": [
    {
     "name": "stdout",
     "output_type": "stream",
     "text": [
      "maximum speed is:  155\n",
      "maximum speed is:  140\n"
     ]
    }
   ],
   "source": [
    "class car:\n",
    "    def __init__(self, year, speed): #init means initializing...\n",
    "        self.year = year\n",
    "        self.speed = speed\n",
    "    def getspeed(self):\n",
    "        print('maximum speed is: ', self.speed)\n",
    "BMW = car(2018, 155)\n",
    "FORD = car(2016, 140)\n",
    "car.getspeed(BMW)\n",
    "FORD.getspeed()"
   ]
  },
  {
   "cell_type": "code",
   "execution_count": 5,
   "id": "0bf340d3",
   "metadata": {},
   "outputs": [
    {
     "name": "stdout",
     "output_type": "stream",
     "text": [
      "maximum speed is:  155\n",
      "maximum speed is:  143\n"
     ]
    }
   ],
   "source": [
    "class car:\n",
    "    def __init__(self, year, speed): #init means initializing...\n",
    "        self.year = year\n",
    "        self.speed = speed\n",
    "    def getspeed(self):\n",
    "        print('maximum speed is: ', self.speed)\n",
    "    def setspeed(self, speed):\n",
    "        self.speed = speed\n",
    "BMW = car(2018, 155)\n",
    "\n",
    "BMW.getspeed()\n",
    "BMW.setspeed(143)\n",
    "\n",
    "BMW.getspeed()"
   ]
  },
  {
   "cell_type": "markdown",
   "id": "ccda27ab",
   "metadata": {},
   "source": [
    "# INHERANTENCE"
   ]
  },
  {
   "cell_type": "code",
   "execution_count": 6,
   "id": "d6613894",
   "metadata": {},
   "outputs": [
    {
     "name": "stdout",
     "output_type": "stream",
     "text": [
      "maximum speed is:  155\n",
      "maximum speed is:  150\n"
     ]
    }
   ],
   "source": [
    "class car:\n",
    "    def __init__(self, year, speed): #init means initializing...\n",
    "        self.year = year\n",
    "        self.speed = speed\n",
    "    def getspeed(self):\n",
    "        print('maximum speed is: ', self.speed)\n",
    "    def setspeed(self, speed):\n",
    "        self.speed = speed\n",
    "BMW = car(2018, 155)\n",
    "FORD = car(2016, 140)\n",
    "\n",
    "# we are inheriting the class car features intto our new class\n",
    "# the two classes below are called child class of car\n",
    "\n",
    "class sedan(car):\n",
    "    def accelerate(self):\n",
    "        print('137')\n",
    "    def opentrunk(self):\n",
    "        print('trunck has been open')\n",
    "class suv(car):\n",
    "    def accelerate(self):\n",
    "        print('127')\n",
    "\n",
    "Honda = sedan(2018, 150)\n",
    "BMW.getspeed()\n",
    "Honda.getspeed()\n",
    "\n",
    "    "
   ]
  },
  {
   "cell_type": "code",
   "execution_count": 7,
   "id": "81134618",
   "metadata": {},
   "outputs": [
    {
     "name": "stdout",
     "output_type": "stream",
     "text": [
      "trunck has been open\n"
     ]
    },
    {
     "ename": "AttributeError",
     "evalue": "'car' object has no attribute 'opentrunk'",
     "output_type": "error",
     "traceback": [
      "\u001b[1;31m---------------------------------------------------------------------------\u001b[0m",
      "\u001b[1;31mAttributeError\u001b[0m                            Traceback (most recent call last)",
      "\u001b[1;32m~\\AppData\\Local\\Temp/ipykernel_1084/3798364405.py\u001b[0m in \u001b[0;36m<module>\u001b[1;34m\u001b[0m\n\u001b[0;32m      1\u001b[0m \u001b[0mHonda\u001b[0m\u001b[1;33m.\u001b[0m\u001b[0mopentrunk\u001b[0m\u001b[1;33m(\u001b[0m\u001b[1;33m)\u001b[0m\u001b[1;33m\u001b[0m\u001b[1;33m\u001b[0m\u001b[0m\n\u001b[1;32m----> 2\u001b[1;33m \u001b[0mBMW\u001b[0m\u001b[1;33m.\u001b[0m\u001b[0mopentrunk\u001b[0m\u001b[1;33m(\u001b[0m\u001b[1;33m)\u001b[0m\u001b[1;33m\u001b[0m\u001b[1;33m\u001b[0m\u001b[0m\n\u001b[0m",
      "\u001b[1;31mAttributeError\u001b[0m: 'car' object has no attribute 'opentrunk'"
     ]
    }
   ],
   "source": [
    "Honda.opentrunk()\n",
    "BMW.opentrunk()"
   ]
  },
  {
   "cell_type": "code",
   "execution_count": null,
   "id": "8e99257c",
   "metadata": {},
   "outputs": [],
   "source": []
  },
  {
   "cell_type": "markdown",
   "id": "0210b78f",
   "metadata": {},
   "source": [
    "# FILE HANDLING"
   ]
  },
  {
   "cell_type": "code",
   "execution_count": 1,
   "id": "1f2e38d5",
   "metadata": {},
   "outputs": [
    {
     "data": {
      "text/plain": [
       "'C:\\\\Users\\\\michael\\\\Desktop\\\\python jupyter'"
      ]
     },
     "execution_count": 1,
     "metadata": {},
     "output_type": "execute_result"
    }
   ],
   "source": [
    "import os\n",
    "os.getcwd()"
   ]
  },
  {
   "cell_type": "code",
   "execution_count": 7,
   "id": "c2b94c82",
   "metadata": {},
   "outputs": [
    {
     "name": "stdout",
     "output_type": "stream",
     "text": [
      "Today is saturday\n",
      "Tomorrow is sunday\n",
      "looking forward to new week\n",
      "\n"
     ]
    }
   ],
   "source": [
    "file2= open(\"today22.txt\", \"r\")\n",
    "print(file2.read())\n",
    "file2.close()"
   ]
  },
  {
   "cell_type": "code",
   "execution_count": 35,
   "id": "1b5f693f",
   "metadata": {},
   "outputs": [
    {
     "name": "stdout",
     "output_type": "stream",
     "text": [
      "python is very easy\n",
      "today is saturday\n",
      "tomorrow is sunday\n"
     ]
    }
   ],
   "source": [
    "import os\n",
    "file = open(\"C:\\\\Users\\\\michael\\\\Downloads\\\\list.txt\", \"r\")\n",
    "print(file.read())\n",
    "file.close()"
   ]
  },
  {
   "cell_type": "code",
   "execution_count": 36,
   "id": "108386fd",
   "metadata": {},
   "outputs": [
    {
     "name": "stdout",
     "output_type": "stream",
     "text": [
      "python \n"
     ]
    }
   ],
   "source": [
    "import os\n",
    "file = open(\"C:\\\\Users\\\\michael\\\\Desktop\\\\python jupyter\\\\list.txt\", \"r\")\n",
    "print(file.read(7))\n",
    "file.close()"
   ]
  },
  {
   "cell_type": "code",
   "execution_count": 37,
   "id": "127a0efa",
   "metadata": {},
   "outputs": [
    {
     "name": "stdout",
     "output_type": "stream",
     "text": [
      "python is very easy\n",
      "\n"
     ]
    }
   ],
   "source": [
    "import os\n",
    "file = open(\"C:\\\\Users\\\\michael\\\\Desktop\\\\python jupyter\\\\list.txt\", \"r\")\n",
    "print(file.readline())\n",
    "file.close()"
   ]
  },
  {
   "cell_type": "code",
   "execution_count": 38,
   "id": "ebf8ef51",
   "metadata": {
    "scrolled": true
   },
   "outputs": [
    {
     "name": "stdout",
     "output_type": "stream",
     "text": [
      "['python is very easy\\n', 'today is saturday\\n', 'tomorrow is sunday']\n"
     ]
    }
   ],
   "source": [
    "import os\n",
    "file = open(\"C:\\\\Users\\\\michael\\\\Desktop\\\\python jupyter\\\\list.txt\", \"r\")\n",
    "print(file.readlines())\n",
    "file.close()"
   ]
  },
  {
   "cell_type": "code",
   "execution_count": 39,
   "id": "c9c323c4",
   "metadata": {},
   "outputs": [
    {
     "name": "stdout",
     "output_type": "stream",
     "text": [
      "pyth\n"
     ]
    }
   ],
   "source": [
    "import os\n",
    "file = open(\"C:\\\\Users\\\\michael\\\\Desktop\\\\python jupyter\\\\list.txt\", \"r\")\n",
    "print(file.readline(4))\n",
    "file.close()"
   ]
  },
  {
   "cell_type": "code",
   "execution_count": 40,
   "id": "83e494eb",
   "metadata": {},
   "outputs": [],
   "source": [
    "import os\n",
    "file = open(\"C:\\\\Users\\\\michael\\\\Desktop\\\\python jupyter\\\\list.txt\", \"w\")\n",
    "file.write('monday')\n",
    "file.write('tuesday')\n",
    "file.close()"
   ]
  },
  {
   "cell_type": "code",
   "execution_count": 42,
   "id": "2ed56374",
   "metadata": {},
   "outputs": [],
   "source": [
    "import os\n",
    "file = open(\"C:\\\\Users\\\\michael\\\\Desktop\\\\python jupyter\\\\newfile2.txt\", \"x\")\n",
    "file.write('prigramming')\n",
    "file.close()"
   ]
  },
  {
   "cell_type": "code",
   "execution_count": null,
   "id": "5336e760",
   "metadata": {},
   "outputs": [],
   "source": [
    "import os\n",
    "file = open(\"C:\\\\Users\\\\michael\\\\Desktop\\\\python jupyter\\\\today.txt\", \"r\")\n",
    "print(file.read())\n",
    "file.close()"
   ]
  },
  {
   "cell_type": "markdown",
   "id": "03890169",
   "metadata": {},
   "source": [
    "---"
   ]
  },
  {
   "cell_type": "markdown",
   "id": "f6d4db9a",
   "metadata": {},
   "source": [
    "# EXCEPTION HANDLING"
   ]
  },
  {
   "cell_type": "code",
   "execution_count": null,
   "id": "6c531542",
   "metadata": {},
   "outputs": [],
   "source": [
    "# try:\n",
    "\n",
    "\n",
    "#except:"
   ]
  },
  {
   "cell_type": "code",
   "execution_count": 43,
   "id": "9a0d5138",
   "metadata": {},
   "outputs": [
    {
     "ename": "ZeroDivisionError",
     "evalue": "division by zero",
     "output_type": "error",
     "traceback": [
      "\u001b[1;31m---------------------------------------------------------------------------\u001b[0m",
      "\u001b[1;31mZeroDivisionError\u001b[0m                         Traceback (most recent call last)",
      "\u001b[1;32m~\\AppData\\Local\\Temp/ipykernel_8440/2093369309.py\u001b[0m in \u001b[0;36m<module>\u001b[1;34m\u001b[0m\n\u001b[0;32m      1\u001b[0m \u001b[0ma\u001b[0m \u001b[1;33m=\u001b[0m \u001b[1;36m10\u001b[0m\u001b[1;33m\u001b[0m\u001b[1;33m\u001b[0m\u001b[0m\n\u001b[0;32m      2\u001b[0m \u001b[0mb\u001b[0m \u001b[1;33m=\u001b[0m \u001b[1;36m0\u001b[0m\u001b[1;33m\u001b[0m\u001b[1;33m\u001b[0m\u001b[0m\n\u001b[1;32m----> 3\u001b[1;33m \u001b[0mc\u001b[0m \u001b[1;33m=\u001b[0m \u001b[0ma\u001b[0m\u001b[1;33m/\u001b[0m\u001b[0mb\u001b[0m\u001b[1;33m\u001b[0m\u001b[1;33m\u001b[0m\u001b[0m\n\u001b[0m\u001b[0;32m      4\u001b[0m \u001b[0mprint\u001b[0m\u001b[1;33m(\u001b[0m\u001b[0mc\u001b[0m\u001b[1;33m)\u001b[0m\u001b[1;33m\u001b[0m\u001b[1;33m\u001b[0m\u001b[0m\n",
      "\u001b[1;31mZeroDivisionError\u001b[0m: division by zero"
     ]
    }
   ],
   "source": [
    "a = 10\n",
    "b = 0\n",
    "c = a/b\n",
    "print(c)"
   ]
  },
  {
   "cell_type": "code",
   "execution_count": 44,
   "id": "1f637e50",
   "metadata": {},
   "outputs": [
    {
     "name": "stdout",
     "output_type": "stream",
     "text": [
      "cant divide with zero\n"
     ]
    }
   ],
   "source": [
    "try:\n",
    "    a = 10\n",
    "    b = 0\n",
    "    c = a/b\n",
    "except:\n",
    "    print('cant divide with zero')"
   ]
  },
  {
   "cell_type": "code",
   "execution_count": 46,
   "id": "35f54f90",
   "metadata": {},
   "outputs": [
    {
     "name": "stdout",
     "output_type": "stream",
     "text": [
      " no dey divide by zero\n"
     ]
    }
   ],
   "source": [
    "a = 10\n",
    "b = 0\n",
    "try:\n",
    "    print(a/b)\n",
    "    print('done')\n",
    "except ZeroDivisionError :\n",
    "    print(\" no dey divide by zero\")\n",
    "    \n",
    "    "
   ]
  },
  {
   "cell_type": "markdown",
   "id": "f530078c",
   "metadata": {},
   "source": [
    "---"
   ]
  },
  {
   "cell_type": "markdown",
   "id": "43cbb2c3",
   "metadata": {},
   "source": [
    "# OBJECT ORIENTED PROGRAMMING IN PYTHON"
   ]
  },
  {
   "cell_type": "code",
   "execution_count": 56,
   "id": "acb5552a",
   "metadata": {},
   "outputs": [],
   "source": [
    "class car:\n",
    "    def __init__(self,year,speed):\n",
    "        self.year = year\n",
    "        self.speed = speed\n",
    "    def getspeed(self):\n",
    "        print('The maximum speed is ', self.speed, 'it was produced in the year ', self.year)\n"
   ]
  },
  {
   "cell_type": "code",
   "execution_count": 57,
   "id": "9752f45d",
   "metadata": {},
   "outputs": [],
   "source": [
    "# creating an instance for car\n",
    "BMW = car(2018,155)\n",
    "Toyota = car(2016, 140)"
   ]
  },
  {
   "cell_type": "code",
   "execution_count": 58,
   "id": "33336c25",
   "metadata": {},
   "outputs": [
    {
     "name": "stdout",
     "output_type": "stream",
     "text": [
      "The maximum speed is  155 it was produced in the year  2018\n"
     ]
    }
   ],
   "source": [
    "BMW.getspeed()"
   ]
  },
  {
   "cell_type": "code",
   "execution_count": 59,
   "id": "99fffd1c",
   "metadata": {},
   "outputs": [
    {
     "name": "stdout",
     "output_type": "stream",
     "text": [
      "The maximum speed is  140 it was produced in the year  2016\n"
     ]
    }
   ],
   "source": [
    "Toyota.getspeed()"
   ]
  },
  {
   "cell_type": "code",
   "execution_count": 60,
   "id": "d343574f",
   "metadata": {},
   "outputs": [],
   "source": [
    "class car:\n",
    "    def __init__(self,year,speed):\n",
    "        self.year = year\n",
    "        self.speed = speed\n",
    "    def getspeed(self):\n",
    "        print('The maximum speed is ', self.speed)\n",
    "    def setspeed(self, speed):\n",
    "        self.speed = speed\n",
    "        "
   ]
  },
  {
   "cell_type": "code",
   "execution_count": 61,
   "id": "0b392676",
   "metadata": {},
   "outputs": [],
   "source": [
    "BMW = car(2018,155)\n",
    "Toyota = car(2016, 140)"
   ]
  },
  {
   "cell_type": "code",
   "execution_count": 62,
   "id": "b99c0c44",
   "metadata": {},
   "outputs": [
    {
     "name": "stdout",
     "output_type": "stream",
     "text": [
      "The maximum speed is  155\n"
     ]
    }
   ],
   "source": [
    "BMW.getspeed()"
   ]
  },
  {
   "cell_type": "code",
   "execution_count": 63,
   "id": "7c0458cf",
   "metadata": {},
   "outputs": [],
   "source": [
    "BMW.setspeed(600)"
   ]
  },
  {
   "cell_type": "code",
   "execution_count": 64,
   "id": "3a70bf5d",
   "metadata": {},
   "outputs": [
    {
     "name": "stdout",
     "output_type": "stream",
     "text": [
      "The maximum speed is  600\n"
     ]
    }
   ],
   "source": [
    "BMW.getspeed()"
   ]
  },
  {
   "cell_type": "code",
   "execution_count": 65,
   "id": "317491b8",
   "metadata": {},
   "outputs": [
    {
     "name": "stdout",
     "output_type": "stream",
     "text": [
      "The maximum speed is  140\n"
     ]
    }
   ],
   "source": [
    "Toyota.getspeed()"
   ]
  },
  {
   "cell_type": "code",
   "execution_count": 66,
   "id": "9b0e0d9e",
   "metadata": {},
   "outputs": [],
   "source": [
    "Toyota.setspeed(120)"
   ]
  },
  {
   "cell_type": "code",
   "execution_count": 67,
   "id": "e8d37983",
   "metadata": {},
   "outputs": [
    {
     "name": "stdout",
     "output_type": "stream",
     "text": [
      "The maximum speed is  120\n"
     ]
    }
   ],
   "source": [
    "Toyota.getspeed()"
   ]
  },
  {
   "cell_type": "markdown",
   "id": "14673d6b",
   "metadata": {},
   "source": [
    "# INHERITANCE"
   ]
  },
  {
   "cell_type": "code",
   "execution_count": 68,
   "id": "77b04245",
   "metadata": {},
   "outputs": [],
   "source": [
    "class sedan(car): #  This is a child class of the class car\n",
    "    def acclerate(self):\n",
    "        print('137')\n",
    "    def tyre(self):\n",
    "        print('The tyre is round')"
   ]
  },
  {
   "cell_type": "code",
   "execution_count": 69,
   "id": "13d1c33a",
   "metadata": {},
   "outputs": [],
   "source": [
    "class suv(car):\n",
    "    def accelerate(self):\n",
    "        print('127')"
   ]
  },
  {
   "cell_type": "code",
   "execution_count": 70,
   "id": "31c52f8b",
   "metadata": {},
   "outputs": [],
   "source": [
    "Honda = sedan(2018,150)"
   ]
  },
  {
   "cell_type": "code",
   "execution_count": 71,
   "id": "1b81f409",
   "metadata": {},
   "outputs": [
    {
     "name": "stdout",
     "output_type": "stream",
     "text": [
      "The maximum speed is  600\n",
      "The maximum speed is  150\n"
     ]
    }
   ],
   "source": [
    "BMW.getspeed()\n",
    "Honda.getspeed()"
   ]
  },
  {
   "cell_type": "code",
   "execution_count": 72,
   "id": "4fbf40fc",
   "metadata": {},
   "outputs": [
    {
     "name": "stdout",
     "output_type": "stream",
     "text": [
      "The tyre is round\n"
     ]
    },
    {
     "ename": "AttributeError",
     "evalue": "'car' object has no attribute 'tyre'",
     "output_type": "error",
     "traceback": [
      "\u001b[1;31m---------------------------------------------------------------------------\u001b[0m",
      "\u001b[1;31mAttributeError\u001b[0m                            Traceback (most recent call last)",
      "\u001b[1;32m~\\AppData\\Local\\Temp/ipykernel_8440/464650868.py\u001b[0m in \u001b[0;36m<module>\u001b[1;34m\u001b[0m\n\u001b[0;32m      1\u001b[0m \u001b[0mHonda\u001b[0m\u001b[1;33m.\u001b[0m\u001b[0mtyre\u001b[0m\u001b[1;33m(\u001b[0m\u001b[1;33m)\u001b[0m\u001b[1;33m\u001b[0m\u001b[1;33m\u001b[0m\u001b[0m\n\u001b[1;32m----> 2\u001b[1;33m \u001b[0mBMW\u001b[0m\u001b[1;33m.\u001b[0m\u001b[0mtyre\u001b[0m\u001b[1;33m(\u001b[0m\u001b[1;33m)\u001b[0m\u001b[1;33m\u001b[0m\u001b[1;33m\u001b[0m\u001b[0m\n\u001b[0m",
      "\u001b[1;31mAttributeError\u001b[0m: 'car' object has no attribute 'tyre'"
     ]
    }
   ],
   "source": [
    "Honda.tyre()\n",
    "BMW.tyre()"
   ]
  },
  {
   "cell_type": "markdown",
   "id": "0e97bebb",
   "metadata": {},
   "source": [
    "---"
   ]
  },
  {
   "cell_type": "markdown",
   "id": "cd4fa3d0",
   "metadata": {},
   "source": [
    "# OVERLOADING"
   ]
  },
  {
   "cell_type": "code",
   "execution_count": 77,
   "id": "48c3df00",
   "metadata": {},
   "outputs": [
    {
     "name": "stdout",
     "output_type": "stream",
     "text": [
      "89\n",
      "137\n"
     ]
    }
   ],
   "source": [
    "class num():\n",
    "    def __init__(self,n1,n2):\n",
    "        self.n1=n1\n",
    "        self.n2=n2\n",
    "    def __add__(self,x):\n",
    "        n1=self.n1+x.n1\n",
    "        n2=self.n2+x.n2\n",
    "        NN= num(n1,n2)\n",
    "        return NN\n",
    "N1=num(66,78)\n",
    "N2=num(23,59)\n",
    "NN = N1 + N2\n",
    "print(NN.n1)\n",
    "print(NN.n2)"
   ]
  },
  {
   "cell_type": "markdown",
   "id": "30589d99",
   "metadata": {},
   "source": [
    "---"
   ]
  },
  {
   "cell_type": "markdown",
   "id": "a3125273",
   "metadata": {},
   "source": [
    "# PYTHON PROJECTS....\n",
    "### NUMBER GUESING GAME...\n",
    "### SIMPLE CALCULATOR..."
   ]
  },
  {
   "cell_type": "code",
   "execution_count": null,
   "id": "d2825b17",
   "metadata": {},
   "outputs": [],
   "source": [
    "\"\"\"import random\n",
    "randnum = random.randrange(1,50)\n",
    "guess = int(input(\"Guess a number; \"))\n",
    "while True:\n",
    "    if randnum < guess:\n",
    "        print(\"Number guess is too low\")\n",
    "        print(\"Try again!!!\")\n",
    "        guess = int(input(\"Guess a number; \"))\n",
    "    else:\n",
    "        print(\"Number guessed is too high\")\n",
    "        print(\"Try again!!!\")\n",
    "        guess = int(input(\"Guess a number; \"))\n",
    "print(\"You guess Correctly\")\n",
    "print(\"Congratulation you won...\")\"\"\""
   ]
  },
  {
   "cell_type": "code",
   "execution_count": null,
   "id": "12f27243",
   "metadata": {},
   "outputs": [],
   "source": [
    "import random\n",
    "number = random.randrange(0,50)\n",
    "guess = int(input(\"Guess a number between 1 and 50; \"))\n",
    "while guess != number:\n",
    "    if guess < number:\n",
    "        print(\"you need to guess higher, try again\")\n",
    "        guess = int(input(\"Guess a number between 1 and 50; \"))\n",
    "    else:\n",
    "        print(\"you need to guess lower\")\n",
    "        guess = int(input(\"Guess a number between 1 and 50; \"))\n",
    "print(\"you guessed the number correctly after attempts\")"
   ]
  },
  {
   "cell_type": "code",
   "execution_count": null,
   "id": "7a823ae4",
   "metadata": {},
   "outputs": [],
   "source": []
  },
  {
   "cell_type": "code",
   "execution_count": null,
   "id": "d12b68db",
   "metadata": {},
   "outputs": [],
   "source": []
  },
  {
   "cell_type": "code",
   "execution_count": null,
   "id": "c7625388",
   "metadata": {},
   "outputs": [],
   "source": []
  },
  {
   "cell_type": "code",
   "execution_count": null,
   "id": "67824319",
   "metadata": {},
   "outputs": [],
   "source": []
  },
  {
   "cell_type": "code",
   "execution_count": null,
   "id": "91672876",
   "metadata": {},
   "outputs": [],
   "source": []
  }
 ],
 "metadata": {
  "kernelspec": {
   "display_name": "Python 3 (ipykernel)",
   "language": "python",
   "name": "python3"
  },
  "language_info": {
   "codemirror_mode": {
    "name": "ipython",
    "version": 3
   },
   "file_extension": ".py",
   "mimetype": "text/x-python",
   "name": "python",
   "nbconvert_exporter": "python",
   "pygments_lexer": "ipython3",
   "version": "3.9.7"
  }
 },
 "nbformat": 4,
 "nbformat_minor": 5
}
